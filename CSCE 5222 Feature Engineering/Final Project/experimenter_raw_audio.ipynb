{
  "cells": [
    {
      "cell_type": "markdown",
      "metadata": {
        "id": "5XHMWjlgrdm5"
      },
      "source": [
        "# Imports"
      ]
    },
    {
      "cell_type": "code",
      "execution_count": 1,
      "metadata": {
        "id": "I1haslyhNxj6"
      },
      "outputs": [],
      "source": [
        "import itertools\n",
        "import math\n",
        "import matplotlib.pyplot as plt\n",
        "import numpy as np\n",
        "import os\n",
        "import pandas as pd\n",
        "import pickle\n",
        "import pylab\n",
        "import random\n",
        "import tensorflow as tf\n",
        "import wave\n",
        "\n",
        "from pathlib import Path\n",
        "from PIL import Image\n",
        "from scipy import signal\n",
        "from scipy.io import wavfile\n",
        "from sklearn.metrics import confusion_matrix, ConfusionMatrixDisplay, precision_recall_fscore_support"
      ]
    },
    {
      "cell_type": "markdown",
      "metadata": {
        "id": "IziEFq-hrh0f"
      },
      "source": [
        "# Variables & Hyperparameters"
      ]
    },
    {
      "cell_type": "markdown",
      "metadata": {
        "id": "7r-GHOqLaqr6"
      },
      "source": [
        "## Variables"
      ]
    },
    {
      "cell_type": "code",
      "execution_count": 2,
      "metadata": {
        "id": "Y_ov73EenERh"
      },
      "outputs": [],
      "source": [
        "DATA_TYPE = \"raw_audio\"\n",
        "DIRECTORY = \"/content/drive/MyDrive/Classes/CSCE 5222 Feature Engineering/Group Project/\"\n",
        "# DATA_DIR = DIRECTORY + \"2k-files/\" + DATA_TYPE + \"/\"\n",
        "AUDIO_DIR = \"/content/AudioMNIST/data/\""
      ]
    },
    {
      "cell_type": "markdown",
      "metadata": {
        "id": "qnOfVCm7asU2"
      },
      "source": [
        "## Hyperparameters"
      ]
    },
    {
      "cell_type": "code",
      "execution_count": 3,
      "metadata": {
        "id": "vMPX0IrsavgF"
      },
      "outputs": [],
      "source": [
        "N_CHANNELS = 1\n",
        "N_CLASSES = 10\n",
        "\n",
        "EPOCHS = 2\n",
        "BATCH_SIZE = 10\n",
        "MAX_LEN = None\n",
        "MAX_SIZE = None"
      ]
    },
    {
      "cell_type": "markdown",
      "metadata": {
        "id": "fLSnGhStrpck"
      },
      "source": [
        "# Load Dataset"
      ]
    },
    {
      "cell_type": "markdown",
      "source": [
        "## Download Repository"
      ],
      "metadata": {
        "id": "SGsxYg9ynZWZ"
      }
    },
    {
      "cell_type": "code",
      "source": [
        "# Clone repository\n",
        "! git clone https://github.com/soerenab/AudioMNIST"
      ],
      "metadata": {
        "colab": {
          "base_uri": "https://localhost:8080/"
        },
        "id": "yQfL95eUnAUX",
        "outputId": "9e271bf8-37bc-4e2c-fd03-cd1d5b6e1e04"
      },
      "execution_count": 4,
      "outputs": [
        {
          "output_type": "stream",
          "name": "stdout",
          "text": [
            "Cloning into 'AudioMNIST'...\n",
            "remote: Enumerating objects: 30122, done.\u001b[K\n",
            "remote: Counting objects: 100% (3/3), done.\u001b[K\n",
            "remote: Compressing objects: 100% (3/3), done.\u001b[K\n",
            "remote: Total 30122 (delta 0), reused 0 (delta 0), pack-reused 30119\u001b[K\n",
            "Receiving objects: 100% (30122/30122), 944.54 MiB | 19.80 MiB/s, done.\n",
            "Resolving deltas: 100% (26/26), done.\n",
            "Checking out files: 100% (30018/30018), done.\n"
          ]
        }
      ]
    },
    {
      "cell_type": "code",
      "source": [
        "# Get raw audio data\n",
        "def get_wav_info(wav_file):\n",
        "    wav = wave.open(wav_file, 'r')\n",
        "    frames = wav.readframes(-1)\n",
        "    sound_info = pylab.frombuffer(frames, 'int16')\n",
        "    frame_rate = wav.getframerate()\n",
        "    wav.close()\n",
        "    return sound_info, frame_rate\n",
        "\n",
        "# Find max sequence length for padding and input shape purposes\n",
        "min = 1000000000\n",
        "max = 0\n",
        "for (r, d, files) in os.walk(AUDIO_DIR):\n",
        "    for f in files:\n",
        "        # print(r, f)\n",
        "\n",
        "        f_in_path = r + \"/\" + f\n",
        "        f_out_path = \"spectrograms/\" + f.split(\".\")[0] + \"spectrogram.png\"\n",
        "        if \".wav\" in f:\n",
        "            sound_info, frame_rate = get_wav_info(f_in_path)\n",
        "            s = sound_info.shape[0]\n",
        "            if s < min:\n",
        "                min = s\n",
        "            if s > max:\n",
        "                max = s\n",
        "    \n",
        "print(min, max)"
      ],
      "metadata": {
        "colab": {
          "base_uri": "https://localhost:8080/"
        },
        "id": "jRsIhrd7nbqe",
        "outputId": "47fecb3b-1b88-4aef-fe34-5319d5445731"
      },
      "execution_count": 5,
      "outputs": [
        {
          "output_type": "stream",
          "name": "stdout",
          "text": [
            "14073 47998\n"
          ]
        }
      ]
    },
    {
      "cell_type": "code",
      "source": [
        "MAX_LEN = math.ceil(math.sqrt(max))\n",
        "MAX_SIZE = MAX_LEN * MAX_LEN"
      ],
      "metadata": {
        "id": "8q4GK7-Infz3"
      },
      "execution_count": 6,
      "outputs": []
    },
    {
      "cell_type": "markdown",
      "metadata": {
        "id": "LyxbSTAhEGnN"
      },
      "source": [
        "## Train Generator"
      ]
    },
    {
      "cell_type": "code",
      "execution_count": 7,
      "metadata": {
        "id": "rPjHP7ctD_mR"
      },
      "outputs": [],
      "source": [
        "def gen_train():\n",
        "    random.seed(42)\n",
        "\n",
        "    # Get train ids\n",
        "    data = []\n",
        "    for j in range(1, 61):\n",
        "        for i in range(10):\n",
        "            for k in range(50):\n",
        "                if j < 49:\n",
        "                    n = str(j)\n",
        "                    n = n.rjust(2, \"0\")\n",
        "                    n = \"%d_%s_%d\"%(i, n, k)\n",
        "                    data.append(n)\n",
        "\n",
        "    # Iterate through ids\n",
        "    random.shuffle(data)\n",
        "    c = 0\n",
        "    for i, n in enumerate(data):\n",
        "        usr = n.split(\"_\")[1]\n",
        "        f_name = AUDIO_DIR + usr + \"/\" + n + \".wav\"\n",
        "        \n",
        "        if os.path.exists(f_name):\n",
        "            sound_info, frame_rate = get_wav_info(f_name)\n",
        "\n",
        "            s = sound_info.shape[0]\n",
        "\n",
        "            # Pad\n",
        "            pad_c = MAX_SIZE - s\n",
        "            l = int(pad_c / 2)\n",
        "            sound_info_p = np.pad(sound_info, (l, pad_c - l))\n",
        "\n",
        "            # Normalize\n",
        "            sound_info_p_n = (sound_info_p-np.min(sound_info_p))/(np.max(sound_info_p)-np.min(sound_info_p))\n",
        "\n",
        "            # Reshape\n",
        "            sound_info_p_n_r = np.reshape(sound_info_p, (MAX_LEN, MAX_LEN))\n",
        "\n",
        "            # Get y\n",
        "            f = f_name.split(\"/\")[-1]\n",
        "            y = f.split(\"_\")[0]\n",
        "            y = int(y)\n",
        "        \n",
        "            # c += 1\n",
        "            # if c > 20:\n",
        "            #     break\n",
        "\n",
        "            yield sound_info_p_n_r, y"
      ]
    },
    {
      "cell_type": "markdown",
      "metadata": {
        "id": "FXqsun1hELxY"
      },
      "source": [
        "## Validation Generator"
      ]
    },
    {
      "cell_type": "code",
      "execution_count": 8,
      "metadata": {
        "id": "XhM6F9s1EOaF"
      },
      "outputs": [],
      "source": [
        "def gen_val():\n",
        "    random.seed(42)\n",
        "\n",
        "    # Get train ids\n",
        "    data = []\n",
        "    for j in range(1, 61):\n",
        "        for i in range(10):\n",
        "            for k in range(50):\n",
        "                if j > 48 and j < 55:\n",
        "                    n = str(j)\n",
        "                    n = n.rjust(2, \"0\")\n",
        "                    n = \"%d_%s_%d\"%(i, n, k)\n",
        "                    data.append(n)\n",
        "\n",
        "    # Iterate through ids\n",
        "    random.shuffle(data)\n",
        "    c = 0\n",
        "    for i, n in enumerate(data):\n",
        "        usr = n.split(\"_\")[1]\n",
        "        f_name = AUDIO_DIR + usr + \"/\" + n + \".wav\"\n",
        "        \n",
        "        if os.path.exists(f_name):\n",
        "            sound_info, frame_rate = get_wav_info(f_name)\n",
        "\n",
        "            s = sound_info.shape[0]\n",
        "\n",
        "            # Pad\n",
        "            pad_c = MAX_SIZE - s\n",
        "            l = int(pad_c / 2)\n",
        "            sound_info_p = np.pad(sound_info, (l, pad_c - l))\n",
        "\n",
        "            # Normalize\n",
        "            sound_info_p_n = (sound_info_p-np.min(sound_info_p))/(np.max(sound_info_p)-np.min(sound_info_p))\n",
        "\n",
        "            # Reshape\n",
        "            sound_info_p_n_r = np.reshape(sound_info_p, (MAX_LEN, MAX_LEN))\n",
        "\n",
        "            # Get y\n",
        "            f = f_name.split(\"/\")[-1]\n",
        "            y = f.split(\"_\")[0]\n",
        "            y = int(y)\n",
        "        \n",
        "            # c += 1\n",
        "            # if c > 20:\n",
        "            #     break\n",
        "\n",
        "            yield sound_info_p_n_r, y"
      ]
    },
    {
      "cell_type": "markdown",
      "metadata": {
        "id": "Mv2tD4xSEaBT"
      },
      "source": [
        "## Test Generator"
      ]
    },
    {
      "cell_type": "code",
      "execution_count": 9,
      "metadata": {
        "id": "qWCBMfZiEbz6"
      },
      "outputs": [],
      "source": [
        "def gen_test():\n",
        "    random.seed(42)\n",
        "\n",
        "    # Get train ids\n",
        "    data = []\n",
        "    for j in range(1, 61):\n",
        "        for i in range(10):\n",
        "            for k in range(50):\n",
        "                if j > 54:\n",
        "                    n = str(j)\n",
        "                    n = n.rjust(2, \"0\")\n",
        "                    n = \"%d_%s_%d\"%(i, n, k)\n",
        "                    data.append(n)\n",
        "\n",
        "    # Iterate through ids\n",
        "    random.shuffle(data)\n",
        "    c = 0\n",
        "    for i, n in enumerate(data):\n",
        "        usr = n.split(\"_\")[1]\n",
        "        f_name = AUDIO_DIR + usr + \"/\" + n + \".wav\"\n",
        "        \n",
        "        if os.path.exists(f_name):\n",
        "            sound_info, frame_rate = get_wav_info(f_name)\n",
        "\n",
        "            s = sound_info.shape[0]\n",
        "\n",
        "            # Pad\n",
        "            pad_c = MAX_SIZE - s\n",
        "            l = int(pad_c / 2)\n",
        "            sound_info_p = np.pad(sound_info, (l, pad_c - l))\n",
        "\n",
        "            # Normalize\n",
        "            sound_info_p_n = (sound_info_p-np.min(sound_info_p))/(np.max(sound_info_p)-np.min(sound_info_p))\n",
        "\n",
        "            # Reshape\n",
        "            sound_info_p_n_r = np.reshape(sound_info_p, (MAX_LEN, MAX_LEN))\n",
        "\n",
        "            # Get y\n",
        "            f = f_name.split(\"/\")[-1]\n",
        "            y = f.split(\"_\")[0]\n",
        "            y = int(y)\n",
        "        \n",
        "            # c += 1\n",
        "            # if c > 20:\n",
        "            #     break\n",
        "\n",
        "            yield sound_info_p_n_r, y"
      ]
    },
    {
      "cell_type": "markdown",
      "metadata": {
        "id": "Ghll14AQE1gk"
      },
      "source": [
        "## Datasets from Generators"
      ]
    },
    {
      "cell_type": "code",
      "execution_count": 10,
      "metadata": {
        "id": "2oGpCCIBE5E4"
      },
      "outputs": [],
      "source": [
        "train = tf.data.Dataset.from_generator(gen_train, \n",
        "                                       output_signature=(tf.TensorSpec(shape=(MAX_LEN, MAX_LEN), dtype=tf.uint8), \n",
        "                                                         tf.TensorSpec(shape=(), dtype=tf.uint8)\n",
        "                                                         )\n",
        "                                       )\n",
        "val = tf.data.Dataset.from_generator(gen_val, \n",
        "                                     output_signature=(tf.TensorSpec(shape=(MAX_LEN, MAX_LEN), dtype=tf.uint8), \n",
        "                                                       tf.TensorSpec(shape=(), dtype=tf.uint8)\n",
        "                                                       )\n",
        "                                     )\n",
        "test = tf.data.Dataset.from_generator(gen_test, \n",
        "                                      output_signature=(tf.TensorSpec(shape=(MAX_LEN, MAX_LEN), dtype=tf.uint8), \n",
        "                                                        tf.TensorSpec(shape=(), dtype=tf.uint8)\n",
        "                                                        )\n",
        "                                      )"
      ]
    },
    {
      "cell_type": "code",
      "execution_count": 11,
      "metadata": {
        "id": "6-Wa4gg3FQv8"
      },
      "outputs": [],
      "source": [
        "# Batch\n",
        "train = train.batch(BATCH_SIZE, drop_remainder=True, num_parallel_calls = tf.data.AUTOTUNE)\n",
        "val = val.batch(BATCH_SIZE, drop_remainder=True, num_parallel_calls = tf.data.AUTOTUNE)\n",
        "test = test.batch(BATCH_SIZE, drop_remainder=True, num_parallel_calls = tf.data.AUTOTUNE)"
      ]
    },
    {
      "cell_type": "markdown",
      "metadata": {
        "id": "y7DHjimoru0Y"
      },
      "source": [
        "# Model"
      ]
    },
    {
      "cell_type": "markdown",
      "metadata": {
        "id": "mQFoZxBir4pV"
      },
      "source": [
        "## Class"
      ]
    },
    {
      "cell_type": "code",
      "execution_count": 12,
      "metadata": {
        "id": "NHUc5mlkN65b"
      },
      "outputs": [],
      "source": [
        "class Trainer():\n",
        "\n",
        "    def __init__(self, name):\n",
        "        self.name = name\n",
        "\n",
        "    def build_model(self, img_height, img_width, n_channels, n_classes):\n",
        "        self.model = tf.keras.models.Sequential()\n",
        "        self.model.add(tf.keras.layers.Input(shape=(img_height, img_width, n_channels)))\n",
        "        self.model.add(tf.keras.layers.Conv2D(32, 3, strides=2, padding='same', activation='relu'))\n",
        "        self.model.add(tf.keras.layers.BatchNormalization())\n",
        "        self.model.add(tf.keras.layers.MaxPooling2D(pool_size=(2, 2)))\n",
        "        self.model.add(tf.keras.layers.BatchNormalization())\n",
        "        self.model.add(tf.keras.layers.Conv2D(64, 3, padding='same', activation='relu'))\n",
        "        self.model.add(tf.keras.layers.BatchNormalization())\n",
        "        self.model.add(tf.keras.layers.MaxPooling2D(pool_size=(2, 2)))\n",
        "        self.model.add(tf.keras.layers.BatchNormalization())\n",
        "        self.model.add(tf.keras.layers.Conv2D(128, 3, padding='same', activation='relu'))\n",
        "        self.model.add(tf.keras.layers.BatchNormalization())\n",
        "        self.model.add(tf.keras.layers.MaxPooling2D(pool_size=(2, 2)))\n",
        "        self.model.add(tf.keras.layers.BatchNormalization())\n",
        "        self.model.add(tf.keras.layers.Flatten())\n",
        "        self.model.add(tf.keras.layers.Dense(256, activation='relu'))\n",
        "        self.model.add(tf.keras.layers.BatchNormalization())\n",
        "        self.model.add(tf.keras.layers.Dropout(0.5))\n",
        "        self.model.add(tf.keras.layers.Dense(n_classes, activation='softmax'))\n",
        "\n",
        "        # Compile model\n",
        "        self.model.compile(\n",
        "            loss='sparse_categorical_crossentropy',\n",
        "            optimizer=tf.keras.optimizers.RMSprop(),\n",
        "            metrics=['accuracy'],\n",
        "        )\n",
        "\n",
        "    def train_model_dataset(self, train_dataset, val_dataset, epochs):\n",
        "        self.history = self.model.fit(train_dataset, epochs=epochs, validation_data=val_dataset)\n",
        "\n",
        "    def test_model_dataset(self, test_dataset, verbose=True):\n",
        "        preds =  self.model.predict(test_dataset)\n",
        "        preds_select = np.apply_along_axis(np.argmax, 1, preds)\n",
        "\n",
        "        loss, acc = self.model.evaluate(test_dataset, verbose=2)\n",
        "        \n",
        "        true = []\n",
        "        for e in test_dataset.as_numpy_iterator():\n",
        "            for n in e[1]:\n",
        "                true.append(n)\n",
        "\n",
        "        scores = precision_recall_fscore_support(true, preds_select, average='macro')\n",
        "        pre = scores[0]\n",
        "        re = scores[1]\n",
        "        f1 = scores[2]\n",
        "\n",
        "        cm_labels = [x for x in range(10)]\n",
        "        cm = confusion_matrix(true, preds_select, labels=cm_labels)\n",
        "\n",
        "        if verbose:\n",
        "            print(\"\\nModel Results:\")\n",
        "            print(\"Loss: %f\\nAccuracy: %f\\nPrecision: %f\\nRecall: %f\\nF1: %f\"%(loss, acc, pre, re, f1))\n",
        "            print(\"\\nConfusion Matrix:\")\n",
        "            disp = ConfusionMatrixDisplay(confusion_matrix=cm, display_labels=cm_labels)\n",
        "            disp.plot()\n",
        "\n",
        "        return loss, acc, pre, re, f1, preds, cm\n",
        "\n",
        "    def plot_loss(self):\n",
        "        # Plot the loss curves for training and validation.\n",
        "        history_dict = self.history.history\n",
        "        loss_values = history_dict['loss']\n",
        "        val_loss_values = history_dict['val_loss']\n",
        "        epochs = range(1, len(loss_values)+1)\n",
        "\n",
        "        plt.figure(figsize=(8,6))\n",
        "        plt.plot(epochs, loss_values, 'bo', label='Training loss')\n",
        "        plt.plot(epochs, val_loss_values, 'b', label='Validation loss')\n",
        "        plt.title('Training and validation loss')\n",
        "        plt.xlabel('Epochs')\n",
        "        plt.ylabel('Loss')\n",
        "        plt.legend()\n",
        "        plt.show()\n",
        "\n",
        "    def plot_accuracy(self):\n",
        "        # Plot the accuracy curves for training and validation.\n",
        "        history_dict = self.history.history\n",
        "        acc_values = history_dict['accuracy']\n",
        "        val_acc_values = history_dict['val_accuracy']\n",
        "        epochs = range(1, len(acc_values)+1)\n",
        "\n",
        "        plt.figure(figsize=(8,6))\n",
        "        plt.plot(epochs, acc_values, 'bo', label='Training accuracy')\n",
        "        plt.plot(epochs, val_acc_values, 'b', label='Validation accuracy')\n",
        "        plt.title('Training and validation accuracy')\n",
        "        plt.xlabel('Epochs')\n",
        "        plt.ylabel('Accuracy')\n",
        "        plt.legend()\n",
        "        plt.show()"
      ]
    },
    {
      "cell_type": "markdown",
      "metadata": {
        "id": "2bJ9zSugr7IA"
      },
      "source": [
        "## Training"
      ]
    },
    {
      "cell_type": "markdown",
      "source": [
        "### Epochs = 2"
      ],
      "metadata": {
        "id": "VDgyoDnelPI1"
      }
    },
    {
      "cell_type": "code",
      "execution_count": null,
      "metadata": {
        "id": "P1KzficKm63-"
      },
      "outputs": [],
      "source": [
        "# Build\n",
        "model = Trainer(DATA_TYPE)\n",
        "model.build_model(MAX_LEN, MAX_LEN, N_CHANNELS, N_CLASSES)"
      ]
    },
    {
      "cell_type": "code",
      "execution_count": null,
      "metadata": {
        "id": "mJDXrrbKFjST",
        "colab": {
          "base_uri": "https://localhost:8080/"
        },
        "outputId": "c469820b-41f4-474e-e444-1b9c7b82b52c"
      },
      "outputs": [
        {
          "output_type": "stream",
          "name": "stdout",
          "text": [
            "Epoch 1/2\n",
            "    582/Unknown - 248s 423ms/step - loss: 1.5399 - accuracy: 0.5014"
          ]
        },
        {
          "output_type": "stream",
          "name": "stderr",
          "text": [
            "<ipython-input-25-ee9e14214391>:33: RuntimeWarning: overflow encountered in short_scalars\n",
            "  sound_info_p_n = (sound_info_p-np.min(sound_info_p))/(np.max(sound_info_p)-np.min(sound_info_p))\n"
          ]
        },
        {
          "output_type": "stream",
          "name": "stdout",
          "text": [
            "2400/2400 [==============================] - 1029s 428ms/step - loss: 1.1245 - accuracy: 0.6194 - val_loss: 0.7932 - val_accuracy: 0.7230\n",
            "Epoch 2/2\n",
            "2400/2400 [==============================] - 999s 416ms/step - loss: 0.7016 - accuracy: 0.7580 - val_loss: 0.7730 - val_accuracy: 0.7390\n"
          ]
        }
      ],
      "source": [
        "# Train\n",
        "model.train_model_dataset(train, val, EPOCHS)"
      ]
    },
    {
      "cell_type": "code",
      "execution_count": null,
      "metadata": {
        "id": "jGaQRv4jP6Gm",
        "colab": {
          "base_uri": "https://localhost:8080/",
          "height": 404
        },
        "outputId": "7bc571a7-1484-4398-c4c2-6fd1c8fd0c16"
      },
      "outputs": [
        {
          "output_type": "display_data",
          "data": {
            "text/plain": [
              "<Figure size 576x432 with 1 Axes>"
            ],
            "image/png": "[encoded data removed]"
          },
          "metadata": {
            "needs_background": "light"
          }
        }
      ],
      "source": [
        "# Plot training accuracy\n",
        "model.plot_accuracy()"
      ]
    },
    {
      "cell_type": "code",
      "execution_count": null,
      "metadata": {
        "id": "3YHvqCekP8zw",
        "colab": {
          "base_uri": "https://localhost:8080/",
          "height": 404
        },
        "outputId": "afdb962e-cadc-4827-91dd-555a29f336e1"
      },
      "outputs": [
        {
          "output_type": "display_data",
          "data": {
            "text/plain": [
              "<Figure size 576x432 with 1 Axes>"
            ],
            "image/png": "[encoded data removed]"
          },
          "metadata": {
            "needs_background": "light"
          }
        }
      ],
      "source": [
        "# Plot training loss\n",
        "model.plot_loss()"
      ]
    },
    {
      "cell_type": "code",
      "execution_count": null,
      "metadata": {
        "id": "bhUhdB9zTQK5",
        "colab": {
          "base_uri": "https://localhost:8080/",
          "height": 470
        },
        "outputId": "82295f2f-179e-4f7d-e53c-ad79c0eab8d8"
      },
      "outputs": [
        {
          "output_type": "stream",
          "name": "stdout",
          "text": [
            "300/300 [==============================] - 33s 110ms/step\n",
            "300/300 - 28s - loss: 0.7410 - accuracy: 0.7347 - 28s/epoch - 92ms/step\n",
            "\n",
            "Model Results:\n",
            "Loss: 0.741027\n",
            "Accuracy: 0.734667\n",
            "Precision: 0.746876\n",
            "Recall: 0.734667\n",
            "F1: 0.725576\n",
            "\n",
            "Confusion Matrix:\n"
          ]
        },
        {
          "output_type": "display_data",
          "data": {
            "text/plain": [
              "<Figure size 432x288 with 2 Axes>"
            ],
            "image/png": "[encoded data removed]"
          },
          "metadata": {
            "needs_background": "light"
          }
        }
      ],
      "source": [
        "# Get test scores\n",
        "_ = model.test_model_dataset(test)"
      ]
    },
    {
      "cell_type": "markdown",
      "metadata": {
        "id": "1jdVUPHHsWE7"
      },
      "source": [
        "### Epochs = 10"
      ]
    },
    {
      "cell_type": "code",
      "source": [
        "EPOCHS = 10"
      ],
      "metadata": {
        "id": "6cYU9B7vpb2R"
      },
      "execution_count": 13,
      "outputs": []
    },
    {
      "cell_type": "code",
      "source": [
        "# Build\n",
        "model = Trainer(DATA_TYPE)\n",
        "model.build_model(MAX_LEN, MAX_LEN, N_CHANNELS, N_CLASSES)"
      ],
      "metadata": {
        "id": "jNUvUl4Npbxg"
      },
      "execution_count": 14,
      "outputs": []
    },
    {
      "cell_type": "code",
      "source": [
        "# Train\n",
        "model.train_model_dataset(train, val, EPOCHS)"
      ],
      "metadata": {
        "colab": {
          "base_uri": "https://localhost:8080/"
        },
        "id": "VwvnvcFGpbtM",
        "outputId": "5e06470f-373b-4338-f1d6-5330b0ecb9a1"
      },
      "execution_count": 15,
      "outputs": [
        {
          "output_type": "stream",
          "name": "stdout",
          "text": [
            "Epoch 1/10\n",
            "    582/Unknown - 220s 375ms/step - loss: 1.5387 - accuracy: 0.4950"
          ]
        },
        {
          "output_type": "stream",
          "name": "stderr",
          "text": [
            "<ipython-input-7-5a35c8a019ec>:33: RuntimeWarning: overflow encountered in short_scalars\n",
            "  sound_info_p_n = (sound_info_p-np.min(sound_info_p))/(np.max(sound_info_p)-np.min(sound_info_p))\n"
          ]
        },
        {
          "output_type": "stream",
          "name": "stdout",
          "text": [
            "2400/2400 [==============================] - 934s 388ms/step - loss: 1.1234 - accuracy: 0.6166 - val_loss: 1.4414 - val_accuracy: 0.6017\n",
            "Epoch 2/10\n",
            "2400/2400 [==============================] - 932s 388ms/step - loss: 0.6998 - accuracy: 0.7578 - val_loss: 0.6618 - val_accuracy: 0.7690\n",
            "Epoch 3/10\n",
            "2400/2400 [==============================] - 1023s 426ms/step - loss: 0.5260 - accuracy: 0.8201 - val_loss: 2.4664 - val_accuracy: 0.7317\n",
            "Epoch 4/10\n",
            "2400/2400 [==============================] - 1023s 426ms/step - loss: 0.4133 - accuracy: 0.8608 - val_loss: 0.9896 - val_accuracy: 0.6833\n",
            "Epoch 5/10\n",
            "2400/2400 [==============================] - 1024s 427ms/step - loss: 0.3312 - accuracy: 0.8902 - val_loss: 1.1050 - val_accuracy: 0.6543\n",
            "Epoch 6/10\n",
            "2400/2400 [==============================] - 1048s 437ms/step - loss: 0.2655 - accuracy: 0.9093 - val_loss: 0.7478 - val_accuracy: 0.8043\n",
            "Epoch 7/10\n",
            "2400/2400 [==============================] - 1055s 439ms/step - loss: 0.2063 - accuracy: 0.9304 - val_loss: 1.0225 - val_accuracy: 0.7610\n",
            "Epoch 8/10\n",
            "2400/2400 [==============================] - 1013s 422ms/step - loss: 0.1611 - accuracy: 0.9441 - val_loss: 0.9283 - val_accuracy: 0.7867\n",
            "Epoch 9/10\n",
            "2400/2400 [==============================] - 990s 412ms/step - loss: 0.1325 - accuracy: 0.9551 - val_loss: 1.1104 - val_accuracy: 0.7713\n",
            "Epoch 10/10\n",
            "2400/2400 [==============================] - 994s 414ms/step - loss: 0.1138 - accuracy: 0.9617 - val_loss: 1.0214 - val_accuracy: 0.8097\n"
          ]
        }
      ]
    },
    {
      "cell_type": "code",
      "source": [
        "# Plot training accuracy\n",
        "model.plot_accuracy()"
      ],
      "metadata": {
        "colab": {
          "base_uri": "https://localhost:8080/",
          "height": 404
        },
        "id": "mtUCTJq_pboB",
        "outputId": "bab2db77-e25e-4c9b-a1a0-20cc5731b8f7"
      },
      "execution_count": 16,
      "outputs": [
        {
          "output_type": "display_data",
          "data": {
            "text/plain": [
              "<Figure size 576x432 with 1 Axes>"
            ],
            "image/png": "[encoded data removed]"
          },
          "metadata": {
            "needs_background": "light"
          }
        }
      ]
    },
    {
      "cell_type": "code",
      "source": [
        "# Plot training loss\n",
        "model.plot_loss()"
      ],
      "metadata": {
        "colab": {
          "base_uri": "https://localhost:8080/",
          "height": 404
        },
        "id": "XiVB13x4pbiD",
        "outputId": "48ff6a67-b084-4b2f-9825-bfd86cad66f1"
      },
      "execution_count": 17,
      "outputs": [
        {
          "output_type": "display_data",
          "data": {
            "text/plain": [
              "<Figure size 576x432 with 1 Axes>"
            ],
            "image/png": "[encoded data removed]"
          },
          "metadata": {
            "needs_background": "light"
          }
        }
      ]
    },
    {
      "cell_type": "code",
      "source": [
        "# Get test scores\n",
        "_ = model.test_model_dataset(test)"
      ],
      "metadata": {
        "colab": {
          "base_uri": "https://localhost:8080/",
          "height": 470
        },
        "id": "Gs_pyiiHpbYw",
        "outputId": "e4639275-2dd1-4f36-8c01-439dd48dbaf1"
      },
      "execution_count": 18,
      "outputs": [
        {
          "output_type": "stream",
          "name": "stdout",
          "text": [
            "300/300 [==============================] - 31s 101ms/step\n",
            "300/300 - 27s - loss: 0.9362 - accuracy: 0.8343 - 27s/epoch - 91ms/step\n",
            "\n",
            "Model Results:\n",
            "Loss: 0.936243\n",
            "Accuracy: 0.834333\n",
            "Precision: 0.844516\n",
            "Recall: 0.834333\n",
            "F1: 0.833827\n",
            "\n",
            "Confusion Matrix:\n"
          ]
        },
        {
          "output_type": "display_data",
          "data": {
            "text/plain": [
              "<Figure size 432x288 with 2 Axes>"
            ],
            "image/png": "[encoded data removed]"
          },
          "metadata": {
            "needs_background": "light"
          }
        }
      ]
    },
    {
      "cell_type": "markdown",
      "source": [
        "# Bottom"
      ],
      "metadata": {
        "id": "jhzMZ9bflXfN"
      }
    }
  ],
  "metadata": {
    "colab": {
      "provenance": [],
      "toc_visible": true
    },
    "gpuClass": "standard",
    "kernelspec": {
      "display_name": "Python 3",
      "name": "python3"
    },
    "language_info": {
      "name": "python"
    }
  },
  "nbformat": 4,
  "nbformat_minor": 0
}